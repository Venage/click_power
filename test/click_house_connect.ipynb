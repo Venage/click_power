{
 "cells": [
  {
   "cell_type": "code",
   "id": "initial_id",
   "metadata": {
    "collapsed": true,
    "ExecuteTime": {
     "end_time": "2025-05-02T12:50:47.860321Z",
     "start_time": "2025-05-02T12:50:47.456582Z"
    }
   },
   "source": [
    "import clickhouse_connect\n",
    "\n",
    "if __name__ == '__main__':\n",
    "    client = clickhouse_connect.get_client(\n",
    "        host='wajbbmzq6a.europe-west4.gcp.clickhouse.cloud',\n",
    "        user='default',\n",
    "        password='3phq~SvlfTr39',\n",
    "        secure=True\n",
    "    )\n",
    "    print(\"Result:\", client.query(\"SELECT 1\").result_set[0][0])"
   ],
   "outputs": [
    {
     "name": "stdout",
     "output_type": "stream",
     "text": [
      "Result: 1\n"
     ]
    }
   ],
   "execution_count": 2
  },
  {
   "metadata": {},
   "cell_type": "code",
   "outputs": [],
   "execution_count": null,
   "source": "",
   "id": "48dc3bcc7692afc8"
  }
 ],
 "metadata": {
  "kernelspec": {
   "display_name": "Python 3",
   "language": "python",
   "name": "python3"
  },
  "language_info": {
   "codemirror_mode": {
    "name": "ipython",
    "version": 2
   },
   "file_extension": ".py",
   "mimetype": "text/x-python",
   "name": "python",
   "nbconvert_exporter": "python",
   "pygments_lexer": "ipython2",
   "version": "2.7.6"
  }
 },
 "nbformat": 4,
 "nbformat_minor": 5
}
