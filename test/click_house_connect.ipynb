{
 "cells": [
  {
   "cell_type": "code",
   "id": "initial_id",
   "metadata": {
    "collapsed": true,
    "ExecuteTime": {
     "end_time": "2025-05-09T07:26:05.650994Z",
     "start_time": "2025-05-09T07:26:05.648747Z"
    }
   },
   "source": [
    "import clickhouse_connect\n",
    "import pandas as pd\n",
    "from IPython.core.completerlib import import_re\n",
    "\n",
    "# if __name__ == '__main__':\n",
    "#     client = clickhouse_connect.get_client(\n",
    "#         host='wajbbmzq6a.europe-west4.gcp.clickhouse.cloud',\n",
    "#         user='default',\n",
    "#         password='3phq~SvlfTr39',\n",
    "#         secure=True\n",
    "#     )\n",
    "#     print(\"Result:\", client.query(\"SELECT 1\").result_set[0][0])"
   ],
   "outputs": [],
   "execution_count": 6
  },
  {
   "metadata": {
    "ExecuteTime": {
     "end_time": "2025-05-09T08:10:15.442729Z",
     "start_time": "2025-05-09T08:09:52.499803Z"
    }
   },
   "cell_type": "code",
   "source": [
    "client = clickhouse_connect.get_client(\n",
    "        host='wajbbmzq6a.europe-west4.gcp.clickhouse.cloud',\n",
    "        user='default',\n",
    "        password='3phq~SvlfTr39',\n",
    "        secure=True\n",
    "    )"
   ],
   "id": "48dc3bcc7692afc8",
   "outputs": [],
   "execution_count": 24
  },
  {
   "metadata": {
    "ExecuteTime": {
     "end_time": "2025-05-09T08:34:10.314030Z",
     "start_time": "2025-05-09T08:34:10.307322Z"
    }
   },
   "cell_type": "code",
   "source": [
    "def create_database(client, database_name):\n",
    "    \"\"\"Создает базу данных в ClickHouse, если она еще не существует.\"\"\"\n",
    "    try:\n",
    "        client.command(f\"CREATE DATABASE IF NOT EXISTS {database_name}\")\n",
    "        print(f\"База данных '{database_name}' успешно создана (если ее не было).\")\n",
    "    except Exception as e:\n",
    "        print(f\"Ошибка при создании базы данных '{database_name}': {e}\")\n",
    "\n",
    "def get_clickhouse_type(pandas_dtype):\n",
    "    \"\"\"Преобразует тип данных Pandas в соответствующий тип данных ClickHouse.\"\"\"\n",
    "    if pandas_dtype == 'int64':\n",
    "        return 'Int64'  # Или Int32, UInt32, в зависимости от диапазона значений\n",
    "    elif pandas_dtype == 'float64':\n",
    "        return 'Float64'\n",
    "    elif pandas_dtype == 'bool':\n",
    "        return 'Bool'\n",
    "    elif pandas_dtype == 'datetime64[ns]':\n",
    "        return 'DateTime'\n",
    "    else:\n",
    "        return 'String'  # По умолчанию используем String\n",
    "\n",
    "\n",
    "def get_column_types_for_clickhouse(filepath, encoding):\n",
    "    \"\"\"\n",
    "    Определяет типы данных столбцов в CSV-файле и преобразует их в типы ClickHouse.\n",
    "\n",
    "    Args:\n",
    "        filepath (str): Путь к CSV-файлу.\n",
    "        encoding (str): Кодировка файла.\n",
    "\n",
    "    Returns:\n",
    "        dict: Словарь, где ключи - имена столбцов, а значения - типы данных ClickHouse.\n",
    "    \"\"\"\n",
    "    try:\n",
    "        df = pd.read_csv(filepath, encoding=encoding)\n",
    "        column_types = {}\n",
    "        for column in df.columns:\n",
    "            pandas_dtype = str(df[column].dtype)\n",
    "            clickhouse_type = get_clickhouse_type(pandas_dtype)\n",
    "            column_types[column] = clickhouse_type\n",
    "        return column_types\n",
    "\n",
    "    except Exception as e:\n",
    "        print(f\"Ошибка при определении типов данных: {e}\")\n",
    "        return None\n",
    "\n",
    "def create_clickhouse_table(client, database, table_name, table_schema):\n",
    "    \"\"\"\n",
    "    Создает таблицу в ClickHouse, если она не существует.\n",
    "\n",
    "    Args:\n",
    "        client: Объект клиента ClickHouse.\n",
    "        database: Имя базы данных.\n",
    "        table_name: Имя таблицы.\n",
    "        table_schema: Строка, содержащая SQL-запрос для создания таблицы.\n",
    "    \"\"\"\n",
    "\n",
    "    try:\n",
    "        client.command(f\"USE {database}\")\n",
    "\n",
    "        # Проверяем, существует ли таблица\n",
    "        result = client.query(f\"EXISTS TABLE {database}.{table_name}\")\n",
    "        # Проверяем, существует ли таблица\n",
    "        table_exists = result.result[0][0] if hasattr(result, 'result') and result.result else False\n",
    "\n",
    "        if not table_exists:\n",
    "            client.command(table_schema)\n",
    "            print(f\"Таблица '{table_name}' успешно создана в базе данных '{database}'.\")\n",
    "        else:\n",
    "            print(f\"Таблица '{table_name}' уже существует в базе данных '{database}'.\")\n",
    "\n",
    "    except Exception as e:\n",
    "        print(f\"Ошибка при создании таблицы '{table_name}': {e}\")\n",
    "\n",
    "def insert_data_from_csv(client, database, table_name, csv_filepath, encoding='utf-16'):\n",
    "    \"\"\"Вставляет данные из CSV-файла в таблицу ClickHouse.\"\"\"\n",
    "    try:\n",
    "        df = pd.read_csv(csv_filepath, encoding=encoding) #или cp1251, если utf-16 не подходит\n",
    "\n",
    "        # Убедимся, что имена столбцов в DataFrame соответствуют именам столбцов в таблице ClickHouse.\n",
    "        #При необходимости переименуйте столбцы DataFrame:\n",
    "        #df.rename(columns={'старое_имя': 'новое_имя', ...}, inplace=True)\n",
    "\n",
    "        client.insert_df(f'{database}.{table_name}', df)\n",
    "        print(f\"Данные из CSV-файла '{csv_filepath}' успешно вставлены в таблицу '{database}.{table_name}'.\")\n",
    "\n",
    "    except Exception as e:\n",
    "        print(f\"Ошибка при вставке данных из CSV-файла: {e}\")"
   ],
   "id": "f2dff66c27409654",
   "outputs": [],
   "execution_count": 41
  },
  {
   "metadata": {
    "ExecuteTime": {
     "end_time": "2025-05-09T08:31:42.498026Z",
     "start_time": "2025-05-09T08:31:42.492207Z"
    }
   },
   "cell_type": "code",
   "source": [
    "filepath = r'C:\\Users\\Misha\\PycharmProjects\\click_power\\test\\final_tabels\\типы_оплаты.csv'\n",
    "encoding = 'utf-16'\n",
    "table_schema = 'dashminox'\n",
    "table_name = 'payment_type'\n",
    "escaped_column = 'ТипОплатыId'\n",
    "\n",
    "column_types = get_column_types_for_clickhouse(filepath, encoding)\n",
    "\n",
    "if column_types:\n",
    "    print(\"Типы столбцов для ClickHouse:\")\n",
    "    for column, data_type in column_types.items():\n",
    "        print(f\"{column}: {data_type}\")\n",
    "\n",
    "    # Генерация SQL-запроса для создания таблицы (пример)\n",
    "    create_table_statement = f\"CREATE TABLE IF NOT EXISTS {table_schema}.{table_name} (\"\n",
    "    for column, data_type in column_types.items():\n",
    "       #Обрамляем названия столбцов, содержащие пробелы или русские буквы\n",
    "        escaped_column = f\"`{column}`\" if ' ' in column or any(ord(c) > 127 for c in column) else column\n",
    "        create_table_statement += f\"\\n    {escaped_column} {data_type},\"\n",
    "    create_table_statement = create_table_statement.rstrip(\",\")  # Удаляем последнюю запятую\n",
    "    create_table_statement += f\"\\n) ENGINE = MergeTree() ORDER BY {escaped_column}\"\n",
    "    print(\"\\nSQL-запрос для создания таблицы:\\n\", create_table_statement)"
   ],
   "id": "7bb2028cd836f41c",
   "outputs": [
    {
     "name": "stdout",
     "output_type": "stream",
     "text": [
      "Типы столбцов для ClickHouse:\n",
      "Тип оплаты: String\n",
      "ТипОплатыId: Int64\n",
      "\n",
      "SQL-запрос для создания таблицы:\n",
      " CREATE TABLE IF NOT EXISTS dashminox.payment_type (\n",
      "    `Тип оплаты` String,\n",
      "    `ТипОплатыId` Int64\n",
      ") ENGINE = MergeTree() ORDER BY `ТипОплатыId`\n"
     ]
    }
   ],
   "execution_count": 39
  },
  {
   "metadata": {
    "ExecuteTime": {
     "end_time": "2025-05-09T08:34:55.357738Z",
     "start_time": "2025-05-09T08:34:54.023609Z"
    }
   },
   "cell_type": "code",
   "source": [
    "# Создаем базу данных, если ее нет\n",
    "create_database(client, database_name)\n",
    "# создаем таблицу\n",
    "create_clickhouse_table(client, database_name, table_name, create_table_statement)\n",
    "# Вставляем данные из CSV-файла\n",
    "insert_data_from_csv(client, database_name, table_name, filepath, encoding)"
   ],
   "id": "8d82205f4b1bed73",
   "outputs": [
    {
     "name": "stdout",
     "output_type": "stream",
     "text": [
      "База данных 'dashminox' успешно создана (если ее не было).\n",
      "Таблица 'payment_type' успешно создана в базе данных 'dashminox'.\n",
      "Данные из CSV-файла 'C:\\Users\\Misha\\PycharmProjects\\click_power\\test\\final_tabels\\типы_оплаты.csv' успешно вставлены в таблицу 'dashminox.payment_type'.\n"
     ]
    }
   ],
   "execution_count": 42
  },
  {
   "metadata": {},
   "cell_type": "code",
   "outputs": [],
   "execution_count": null,
   "source": "",
   "id": "e5d739c85cfb2871"
  },
  {
   "metadata": {},
   "cell_type": "code",
   "outputs": [],
   "execution_count": null,
   "source": "",
   "id": "9e5350dcfa0c7817"
  },
  {
   "metadata": {},
   "cell_type": "code",
   "outputs": [],
   "execution_count": null,
   "source": "",
   "id": "14e74ce95ef9b48e"
  },
  {
   "metadata": {},
   "cell_type": "code",
   "outputs": [],
   "execution_count": null,
   "source": "",
   "id": "ac917db80834a37e"
  },
  {
   "metadata": {
    "ExecuteTime": {
     "end_time": "2025-05-09T08:31:12.539045Z",
     "start_time": "2025-05-09T08:31:10.856806Z"
    }
   },
   "cell_type": "code",
   "source": [
    "import clickhouse_connect\n",
    "\n",
    "def create_database(client, database_name):\n",
    "    \"\"\"Создает базу данных в ClickHouse, если она еще не существует.\"\"\"\n",
    "    try:\n",
    "        client.command(f\"CREATE DATABASE IF NOT EXISTS {database_name}\")\n",
    "        print(f\"База данных '{database_name}' успешно создана (если ее не было).\")\n",
    "    except Exception as e:\n",
    "        print(f\"Ошибка при создании базы данных '{database_name}': {e}\")\n",
    "\n",
    "\n",
    "def create_clickhouse_table(client, database, table_name, table_schema):\n",
    "    \"\"\"\n",
    "    Создает таблицу в ClickHouse, если она не существует.\n",
    "\n",
    "    Args:\n",
    "        client: Объект клиента ClickHouse.\n",
    "        database: Имя базы данных.\n",
    "        table_name: Имя таблицы.\n",
    "        table_schema: Строка, содержащая SQL-запрос для создания таблицы.\n",
    "    \"\"\"\n",
    "\n",
    "    try:\n",
    "        client.command(f\"USE {database}\")\n",
    "\n",
    "        # Проверяем, существует ли таблица\n",
    "        result = client.query(f\"EXISTS TABLE {database}.{table_name}\")\n",
    "        table_exists = result.result[0][0] if hasattr(result, 'result') and result.result else False\n",
    "\n",
    "        if not table_exists:\n",
    "            client.command(table_schema)\n",
    "            print(f\"Таблица '{table_name}' успешно создана в базе данных '{database}'.\")\n",
    "        else:\n",
    "            print(f\"Таблица '{table_name}' уже существует в базе данных '{database}'.\")\n",
    "\n",
    "    except Exception as e:\n",
    "        print(f\"Ошибка при создании таблицы '{table_name}': {e}\")\n",
    "\n",
    "# Пример использования:\n",
    "if __name__ == '__main__':\n",
    "    client = clickhouse_connect.get_client(\n",
    "        host='wajbbmzq6a.europe-west4.gcp.clickhouse.cloud',\n",
    "        user='default',\n",
    "        password='3phq~SvlfTr39',\n",
    "        secure=True\n",
    "    )\n",
    "\n",
    "    database_name = 'dashminox'\n",
    "    table_name = 'payment_type' # Укажите имя таблицы\n",
    "\n",
    "    # Создаем базу данных, если ее нет\n",
    "    create_database(client, database_name)\n",
    "\n",
    "    # Определяем схему таблицы\n",
    "    table_schema = f\"\"\"\n",
    "    CREATE TABLE IF NOT EXISTS {database_name}.{table_name} (\n",
    "        `Тип оплаты` Nullable(String),\n",
    "        `ТипОплатыId` UInt8\n",
    "    ) ENGINE = MergeTree()\n",
    "    ORDER BY `ТипОплатыId`\n",
    "    \"\"\"\n",
    "    # создаем таблицу\n",
    "    create_clickhouse_table(client, database_name, table_name, table_schema)"
   ],
   "id": "e0ce314765d62fec",
   "outputs": [
    {
     "name": "stdout",
     "output_type": "stream",
     "text": [
      "База данных 'dashminox' успешно создана (если ее не было).\n",
      "Таблица 'payment_type' успешно создана в базе данных 'dashminox'.\n"
     ]
    }
   ],
   "execution_count": 38
  },
  {
   "metadata": {},
   "cell_type": "code",
   "outputs": [],
   "execution_count": null,
   "source": "",
   "id": "66bf0bee54233841"
  }
 ],
 "metadata": {
  "kernelspec": {
   "display_name": "Python 3",
   "language": "python",
   "name": "python3"
  },
  "language_info": {
   "codemirror_mode": {
    "name": "ipython",
    "version": 2
   },
   "file_extension": ".py",
   "mimetype": "text/x-python",
   "name": "python",
   "nbconvert_exporter": "python",
   "pygments_lexer": "ipython2",
   "version": "2.7.6"
  }
 },
 "nbformat": 4,
 "nbformat_minor": 5
}
